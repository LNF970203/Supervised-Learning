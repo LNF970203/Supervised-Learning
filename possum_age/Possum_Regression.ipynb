{
 "cells": [
  {
   "cell_type": "code",
   "execution_count": 40,
   "id": "9dc47417",
   "metadata": {},
   "outputs": [],
   "source": [
    "import pandas as pd\n",
    "import numpy as np\n",
    "import matplotlib.pyplot as plt\n",
    "import seaborn as sns\n",
    "from sklearn.model_selection import train_test_split, GridSearchCV\n",
    "from sklearn.metrics import mean_squared_error, mean_absolute_error, mean_absolute_percentage_error\n",
    "from sklearn.linear_model import LinearRegression\n",
    "import os"
   ]
  },
  {
   "cell_type": "code",
   "execution_count": 2,
   "id": "bfa39d3a",
   "metadata": {},
   "outputs": [],
   "source": [
    "#reading data\n",
    "data = pd.read_csv(\"C:\\Lachin\\DataSets\\possum\\possum.csv\")"
   ]
  },
  {
   "cell_type": "code",
   "execution_count": 3,
   "id": "2d954527",
   "metadata": {},
   "outputs": [
    {
     "data": {
      "text/html": [
       "<div>\n",
       "<style scoped>\n",
       "    .dataframe tbody tr th:only-of-type {\n",
       "        vertical-align: middle;\n",
       "    }\n",
       "\n",
       "    .dataframe tbody tr th {\n",
       "        vertical-align: top;\n",
       "    }\n",
       "\n",
       "    .dataframe thead th {\n",
       "        text-align: right;\n",
       "    }\n",
       "</style>\n",
       "<table border=\"1\" class=\"dataframe\">\n",
       "  <thead>\n",
       "    <tr style=\"text-align: right;\">\n",
       "      <th></th>\n",
       "      <th>case</th>\n",
       "      <th>site</th>\n",
       "      <th>Pop</th>\n",
       "      <th>sex</th>\n",
       "      <th>age</th>\n",
       "      <th>hdlngth</th>\n",
       "      <th>skullw</th>\n",
       "      <th>totlngth</th>\n",
       "      <th>taill</th>\n",
       "      <th>footlgth</th>\n",
       "      <th>earconch</th>\n",
       "      <th>eye</th>\n",
       "      <th>chest</th>\n",
       "      <th>belly</th>\n",
       "    </tr>\n",
       "  </thead>\n",
       "  <tbody>\n",
       "    <tr>\n",
       "      <th>0</th>\n",
       "      <td>1</td>\n",
       "      <td>1</td>\n",
       "      <td>Vic</td>\n",
       "      <td>m</td>\n",
       "      <td>8.0</td>\n",
       "      <td>94.1</td>\n",
       "      <td>60.4</td>\n",
       "      <td>89.0</td>\n",
       "      <td>36.0</td>\n",
       "      <td>74.5</td>\n",
       "      <td>54.5</td>\n",
       "      <td>15.2</td>\n",
       "      <td>28.0</td>\n",
       "      <td>36.0</td>\n",
       "    </tr>\n",
       "    <tr>\n",
       "      <th>1</th>\n",
       "      <td>2</td>\n",
       "      <td>1</td>\n",
       "      <td>Vic</td>\n",
       "      <td>f</td>\n",
       "      <td>6.0</td>\n",
       "      <td>92.5</td>\n",
       "      <td>57.6</td>\n",
       "      <td>91.5</td>\n",
       "      <td>36.5</td>\n",
       "      <td>72.5</td>\n",
       "      <td>51.2</td>\n",
       "      <td>16.0</td>\n",
       "      <td>28.5</td>\n",
       "      <td>33.0</td>\n",
       "    </tr>\n",
       "    <tr>\n",
       "      <th>2</th>\n",
       "      <td>3</td>\n",
       "      <td>1</td>\n",
       "      <td>Vic</td>\n",
       "      <td>f</td>\n",
       "      <td>6.0</td>\n",
       "      <td>94.0</td>\n",
       "      <td>60.0</td>\n",
       "      <td>95.5</td>\n",
       "      <td>39.0</td>\n",
       "      <td>75.4</td>\n",
       "      <td>51.9</td>\n",
       "      <td>15.5</td>\n",
       "      <td>30.0</td>\n",
       "      <td>34.0</td>\n",
       "    </tr>\n",
       "    <tr>\n",
       "      <th>3</th>\n",
       "      <td>4</td>\n",
       "      <td>1</td>\n",
       "      <td>Vic</td>\n",
       "      <td>f</td>\n",
       "      <td>6.0</td>\n",
       "      <td>93.2</td>\n",
       "      <td>57.1</td>\n",
       "      <td>92.0</td>\n",
       "      <td>38.0</td>\n",
       "      <td>76.1</td>\n",
       "      <td>52.2</td>\n",
       "      <td>15.2</td>\n",
       "      <td>28.0</td>\n",
       "      <td>34.0</td>\n",
       "    </tr>\n",
       "    <tr>\n",
       "      <th>4</th>\n",
       "      <td>5</td>\n",
       "      <td>1</td>\n",
       "      <td>Vic</td>\n",
       "      <td>f</td>\n",
       "      <td>2.0</td>\n",
       "      <td>91.5</td>\n",
       "      <td>56.3</td>\n",
       "      <td>85.5</td>\n",
       "      <td>36.0</td>\n",
       "      <td>71.0</td>\n",
       "      <td>53.2</td>\n",
       "      <td>15.1</td>\n",
       "      <td>28.5</td>\n",
       "      <td>33.0</td>\n",
       "    </tr>\n",
       "  </tbody>\n",
       "</table>\n",
       "</div>"
      ],
      "text/plain": [
       "   case  site  Pop sex  age  hdlngth  skullw  totlngth  taill  footlgth  \\\n",
       "0     1     1  Vic   m  8.0     94.1    60.4      89.0   36.0      74.5   \n",
       "1     2     1  Vic   f  6.0     92.5    57.6      91.5   36.5      72.5   \n",
       "2     3     1  Vic   f  6.0     94.0    60.0      95.5   39.0      75.4   \n",
       "3     4     1  Vic   f  6.0     93.2    57.1      92.0   38.0      76.1   \n",
       "4     5     1  Vic   f  2.0     91.5    56.3      85.5   36.0      71.0   \n",
       "\n",
       "   earconch   eye  chest  belly  \n",
       "0      54.5  15.2   28.0   36.0  \n",
       "1      51.2  16.0   28.5   33.0  \n",
       "2      51.9  15.5   30.0   34.0  \n",
       "3      52.2  15.2   28.0   34.0  \n",
       "4      53.2  15.1   28.5   33.0  "
      ]
     },
     "execution_count": 3,
     "metadata": {},
     "output_type": "execute_result"
    }
   ],
   "source": [
    "data.head()"
   ]
  },
  {
   "cell_type": "code",
   "execution_count": 4,
   "id": "329114f9",
   "metadata": {},
   "outputs": [
    {
     "name": "stdout",
     "output_type": "stream",
     "text": [
      "Shape of the dataset: (104, 14)\n"
     ]
    }
   ],
   "source": [
    "print(\"Shape of the dataset: {}\".format(data.shape))"
   ]
  },
  {
   "cell_type": "code",
   "execution_count": 5,
   "id": "32863ff0",
   "metadata": {},
   "outputs": [
    {
     "name": "stdout",
     "output_type": "stream",
     "text": [
      "<class 'pandas.core.frame.DataFrame'>\n",
      "RangeIndex: 104 entries, 0 to 103\n",
      "Data columns (total 14 columns):\n",
      " #   Column    Non-Null Count  Dtype  \n",
      "---  ------    --------------  -----  \n",
      " 0   case      104 non-null    int64  \n",
      " 1   site      104 non-null    int64  \n",
      " 2   Pop       104 non-null    object \n",
      " 3   sex       104 non-null    object \n",
      " 4   age       102 non-null    float64\n",
      " 5   hdlngth   104 non-null    float64\n",
      " 6   skullw    104 non-null    float64\n",
      " 7   totlngth  104 non-null    float64\n",
      " 8   taill     104 non-null    float64\n",
      " 9   footlgth  103 non-null    float64\n",
      " 10  earconch  104 non-null    float64\n",
      " 11  eye       104 non-null    float64\n",
      " 12  chest     104 non-null    float64\n",
      " 13  belly     104 non-null    float64\n",
      "dtypes: float64(10), int64(2), object(2)\n",
      "memory usage: 11.5+ KB\n"
     ]
    }
   ],
   "source": [
    "data.info()"
   ]
  },
  {
   "cell_type": "code",
   "execution_count": 6,
   "id": "1045b833",
   "metadata": {},
   "outputs": [
    {
     "name": "stdout",
     "output_type": "stream",
     "text": [
      "Number of unique values in the column case: 104\n",
      "Number of unique values in the column site: 7\n",
      "Number of unique values in the column Pop: 2\n",
      "Number of unique values in the column sex: 2\n",
      "Number of unique values in the column age: 9\n",
      "Number of unique values in the column hdlngth: 71\n",
      "Number of unique values in the column skullw: 64\n",
      "Number of unique values in the column totlngth: 34\n",
      "Number of unique values in the column taill: 19\n",
      "Number of unique values in the column footlgth: 75\n",
      "Number of unique values in the column earconch: 69\n",
      "Number of unique values in the column eye: 35\n",
      "Number of unique values in the column chest: 19\n",
      "Number of unique values in the column belly: 24\n"
     ]
    }
   ],
   "source": [
    "for column in data.columns:\n",
    "    print(\"Number of unique values in the column {}: {}\".format(column, data[column].nunique()))"
   ]
  },
  {
   "cell_type": "code",
   "execution_count": 7,
   "id": "2c4bcdda",
   "metadata": {},
   "outputs": [
    {
     "data": {
      "text/plain": [
       "1    33\n",
       "7    18\n",
       "2    13\n",
       "5    13\n",
       "6    13\n",
       "3     7\n",
       "4     7\n",
       "Name: site, dtype: int64"
      ]
     },
     "execution_count": 7,
     "metadata": {},
     "output_type": "execute_result"
    }
   ],
   "source": [
    "#checking value counts\n",
    "data['site'].value_counts()"
   ]
  },
  {
   "cell_type": "code",
   "execution_count": 8,
   "id": "9f401d5e",
   "metadata": {},
   "outputs": [
    {
     "data": {
      "text/plain": [
       "3.0    27\n",
       "2.0    16\n",
       "4.0    14\n",
       "5.0    13\n",
       "6.0    12\n",
       "1.0    10\n",
       "7.0     7\n",
       "9.0     2\n",
       "8.0     1\n",
       "Name: age, dtype: int64"
      ]
     },
     "execution_count": 8,
     "metadata": {},
     "output_type": "execute_result"
    }
   ],
   "source": [
    "#checking value counts\n",
    "data['age'].value_counts()"
   ]
  },
  {
   "cell_type": "code",
   "execution_count": 21,
   "id": "7fafd307",
   "metadata": {},
   "outputs": [
    {
     "name": "stdout",
     "output_type": "stream",
     "text": [
      "Number of quantitative columns: 12\n"
     ]
    },
    {
     "data": {
      "image/png": "[encoded data removed]",
      "text/plain": [
       "<Figure size 1440x1440 with 12 Axes>"
      ]
     },
     "metadata": {
      "needs_background": "light"
     },
     "output_type": "display_data"
    }
   ],
   "source": [
    "#checking outliers\n",
    "data_out = data.select_dtypes(exclude = 'object')\n",
    "print(\"Number of quantitative columns: {}\".format(len(data_out.columns)))\n",
    "plt.figure(figsize=(20,20))\n",
    "for index, column in enumerate(data_out.columns):\n",
    "    plt.subplot(6,2,index+1)\n",
    "    sns.boxplot(x = data[column])\n",
    "    #plt.title(\"Boxplot of the variable {}\".format(column))"
   ]
  },
  {
   "cell_type": "code",
   "execution_count": 22,
   "id": "5547f489",
   "metadata": {},
   "outputs": [
    {
     "data": {
      "text/plain": [
       "case        0\n",
       "site        0\n",
       "Pop         0\n",
       "sex         0\n",
       "age         2\n",
       "hdlngth     0\n",
       "skullw      0\n",
       "totlngth    0\n",
       "taill       0\n",
       "footlgth    1\n",
       "earconch    0\n",
       "eye         0\n",
       "chest       0\n",
       "belly       0\n",
       "dtype: int64"
      ]
     },
     "execution_count": 22,
     "metadata": {},
     "output_type": "execute_result"
    }
   ],
   "source": [
    "#checking for missing values\n",
    "data.isnull().sum()"
   ]
  },
  {
   "cell_type": "code",
   "execution_count": 24,
   "id": "7d9bc3a9",
   "metadata": {},
   "outputs": [],
   "source": [
    "#filling missing values\n",
    "data['footlgth'].fillna(data['footlgth'].mean(), inplace = True)"
   ]
  },
  {
   "cell_type": "code",
   "execution_count": 26,
   "id": "cf5ef60d",
   "metadata": {},
   "outputs": [
    {
     "data": {
      "text/plain": [
       "case        0\n",
       "site        0\n",
       "Pop         0\n",
       "sex         0\n",
       "age         2\n",
       "hdlngth     0\n",
       "skullw      0\n",
       "totlngth    0\n",
       "taill       0\n",
       "footlgth    0\n",
       "earconch    0\n",
       "eye         0\n",
       "chest       0\n",
       "belly       0\n",
       "dtype: int64"
      ]
     },
     "execution_count": 26,
     "metadata": {},
     "output_type": "execute_result"
    }
   ],
   "source": [
    "data.isnull().sum()"
   ]
  },
  {
   "cell_type": "code",
   "execution_count": 27,
   "id": "8d0554a4",
   "metadata": {},
   "outputs": [
    {
     "name": "stdout",
     "output_type": "stream",
     "text": [
      "Shape of the data before removing the missing values: (104, 14)\n",
      "\n",
      "Shape of the data after removing the missing values: (102, 14)\n"
     ]
    }
   ],
   "source": [
    "#dropping missing values is not reccomended here since number of data rows are not sufficient\n",
    "#but age variabloe is somewhat categoricla and mean values wont fit much iwth this\n",
    "#Mode values can be used, but it may have some effects on the model performance \n",
    "#therefore it is better remove the missing values\n",
    "print(\"Shape of the data before removing the missing values: {}\\n\".format(data.shape))\n",
    "data.dropna(how = \"any\", inplace = True)\n",
    "print(\"Shape of the data after removing the missing values: {}\".format(data.shape))"
   ]
  },
  {
   "cell_type": "markdown",
   "id": "b357c433",
   "metadata": {},
   "source": [
    "# Data analysis"
   ]
  },
  {
   "cell_type": "code",
   "execution_count": 29,
   "id": "bf7e3633",
   "metadata": {},
   "outputs": [
    {
     "data": {
      "text/html": [
       "<div>\n",
       "<style scoped>\n",
       "    .dataframe tbody tr th:only-of-type {\n",
       "        vertical-align: middle;\n",
       "    }\n",
       "\n",
       "    .dataframe tbody tr th {\n",
       "        vertical-align: top;\n",
       "    }\n",
       "\n",
       "    .dataframe thead th {\n",
       "        text-align: right;\n",
       "    }\n",
       "</style>\n",
       "<table border=\"1\" class=\"dataframe\">\n",
       "  <thead>\n",
       "    <tr style=\"text-align: right;\">\n",
       "      <th></th>\n",
       "      <th>case</th>\n",
       "      <th>site</th>\n",
       "      <th>age</th>\n",
       "      <th>hdlngth</th>\n",
       "      <th>skullw</th>\n",
       "      <th>totlngth</th>\n",
       "      <th>taill</th>\n",
       "      <th>footlgth</th>\n",
       "      <th>earconch</th>\n",
       "      <th>eye</th>\n",
       "      <th>chest</th>\n",
       "      <th>belly</th>\n",
       "    </tr>\n",
       "  </thead>\n",
       "  <tbody>\n",
       "    <tr>\n",
       "      <th>0</th>\n",
       "      <td>1</td>\n",
       "      <td>1</td>\n",
       "      <td>8.0</td>\n",
       "      <td>94.1</td>\n",
       "      <td>60.4</td>\n",
       "      <td>89.0</td>\n",
       "      <td>36.0</td>\n",
       "      <td>74.5</td>\n",
       "      <td>54.5</td>\n",
       "      <td>15.2</td>\n",
       "      <td>28.0</td>\n",
       "      <td>36.0</td>\n",
       "    </tr>\n",
       "    <tr>\n",
       "      <th>1</th>\n",
       "      <td>2</td>\n",
       "      <td>1</td>\n",
       "      <td>6.0</td>\n",
       "      <td>92.5</td>\n",
       "      <td>57.6</td>\n",
       "      <td>91.5</td>\n",
       "      <td>36.5</td>\n",
       "      <td>72.5</td>\n",
       "      <td>51.2</td>\n",
       "      <td>16.0</td>\n",
       "      <td>28.5</td>\n",
       "      <td>33.0</td>\n",
       "    </tr>\n",
       "    <tr>\n",
       "      <th>2</th>\n",
       "      <td>3</td>\n",
       "      <td>1</td>\n",
       "      <td>6.0</td>\n",
       "      <td>94.0</td>\n",
       "      <td>60.0</td>\n",
       "      <td>95.5</td>\n",
       "      <td>39.0</td>\n",
       "      <td>75.4</td>\n",
       "      <td>51.9</td>\n",
       "      <td>15.5</td>\n",
       "      <td>30.0</td>\n",
       "      <td>34.0</td>\n",
       "    </tr>\n",
       "    <tr>\n",
       "      <th>3</th>\n",
       "      <td>4</td>\n",
       "      <td>1</td>\n",
       "      <td>6.0</td>\n",
       "      <td>93.2</td>\n",
       "      <td>57.1</td>\n",
       "      <td>92.0</td>\n",
       "      <td>38.0</td>\n",
       "      <td>76.1</td>\n",
       "      <td>52.2</td>\n",
       "      <td>15.2</td>\n",
       "      <td>28.0</td>\n",
       "      <td>34.0</td>\n",
       "    </tr>\n",
       "    <tr>\n",
       "      <th>4</th>\n",
       "      <td>5</td>\n",
       "      <td>1</td>\n",
       "      <td>2.0</td>\n",
       "      <td>91.5</td>\n",
       "      <td>56.3</td>\n",
       "      <td>85.5</td>\n",
       "      <td>36.0</td>\n",
       "      <td>71.0</td>\n",
       "      <td>53.2</td>\n",
       "      <td>15.1</td>\n",
       "      <td>28.5</td>\n",
       "      <td>33.0</td>\n",
       "    </tr>\n",
       "  </tbody>\n",
       "</table>\n",
       "</div>"
      ],
      "text/plain": [
       "   case  site  age  hdlngth  skullw  totlngth  taill  footlgth  earconch  \\\n",
       "0     1     1  8.0     94.1    60.4      89.0   36.0      74.5      54.5   \n",
       "1     2     1  6.0     92.5    57.6      91.5   36.5      72.5      51.2   \n",
       "2     3     1  6.0     94.0    60.0      95.5   39.0      75.4      51.9   \n",
       "3     4     1  6.0     93.2    57.1      92.0   38.0      76.1      52.2   \n",
       "4     5     1  2.0     91.5    56.3      85.5   36.0      71.0      53.2   \n",
       "\n",
       "    eye  chest  belly  \n",
       "0  15.2   28.0   36.0  \n",
       "1  16.0   28.5   33.0  \n",
       "2  15.5   30.0   34.0  \n",
       "3  15.2   28.0   34.0  \n",
       "4  15.1   28.5   33.0  "
      ]
     },
     "execution_count": 29,
     "metadata": {},
     "output_type": "execute_result"
    }
   ],
   "source": [
    "#only the quantitative variables\n",
    "data_out.head()"
   ]
  },
  {
   "cell_type": "code",
   "execution_count": 30,
   "id": "2223d37f",
   "metadata": {},
   "outputs": [
    {
     "data": {
      "text/html": [
       "<div>\n",
       "<style scoped>\n",
       "    .dataframe tbody tr th:only-of-type {\n",
       "        vertical-align: middle;\n",
       "    }\n",
       "\n",
       "    .dataframe tbody tr th {\n",
       "        vertical-align: top;\n",
       "    }\n",
       "\n",
       "    .dataframe thead th {\n",
       "        text-align: right;\n",
       "    }\n",
       "</style>\n",
       "<table border=\"1\" class=\"dataframe\">\n",
       "  <thead>\n",
       "    <tr style=\"text-align: right;\">\n",
       "      <th></th>\n",
       "      <th>case</th>\n",
       "      <th>site</th>\n",
       "      <th>age</th>\n",
       "      <th>hdlngth</th>\n",
       "      <th>skullw</th>\n",
       "      <th>totlngth</th>\n",
       "      <th>taill</th>\n",
       "      <th>footlgth</th>\n",
       "      <th>earconch</th>\n",
       "      <th>eye</th>\n",
       "      <th>chest</th>\n",
       "      <th>belly</th>\n",
       "    </tr>\n",
       "  </thead>\n",
       "  <tbody>\n",
       "    <tr>\n",
       "      <th>case</th>\n",
       "      <td>1.000000</td>\n",
       "      <td>0.970353</td>\n",
       "      <td>-0.194525</td>\n",
       "      <td>-0.209177</td>\n",
       "      <td>-0.125065</td>\n",
       "      <td>-0.334329</td>\n",
       "      <td>0.315351</td>\n",
       "      <td>-0.782368</td>\n",
       "      <td>-0.773727</td>\n",
       "      <td>-0.084078</td>\n",
       "      <td>-0.402303</td>\n",
       "      <td>-0.211671</td>\n",
       "    </tr>\n",
       "    <tr>\n",
       "      <th>site</th>\n",
       "      <td>0.970353</td>\n",
       "      <td>1.000000</td>\n",
       "      <td>-0.131423</td>\n",
       "      <td>-0.163646</td>\n",
       "      <td>-0.083548</td>\n",
       "      <td>-0.260843</td>\n",
       "      <td>0.380444</td>\n",
       "      <td>-0.783009</td>\n",
       "      <td>-0.790716</td>\n",
       "      <td>-0.036987</td>\n",
       "      <td>-0.345494</td>\n",
       "      <td>-0.175266</td>\n",
       "    </tr>\n",
       "    <tr>\n",
       "      <th>age</th>\n",
       "      <td>-0.194525</td>\n",
       "      <td>-0.131423</td>\n",
       "      <td>1.000000</td>\n",
       "      <td>0.319022</td>\n",
       "      <td>0.285107</td>\n",
       "      <td>0.260280</td>\n",
       "      <td>0.118241</td>\n",
       "      <td>0.126190</td>\n",
       "      <td>0.053405</td>\n",
       "      <td>0.235553</td>\n",
       "      <td>0.334209</td>\n",
       "      <td>0.354298</td>\n",
       "    </tr>\n",
       "    <tr>\n",
       "      <th>hdlngth</th>\n",
       "      <td>-0.209177</td>\n",
       "      <td>-0.163646</td>\n",
       "      <td>0.319022</td>\n",
       "      <td>1.000000</td>\n",
       "      <td>0.710827</td>\n",
       "      <td>0.691094</td>\n",
       "      <td>0.287429</td>\n",
       "      <td>0.391605</td>\n",
       "      <td>0.121463</td>\n",
       "      <td>0.347175</td>\n",
       "      <td>0.631498</td>\n",
       "      <td>0.562663</td>\n",
       "    </tr>\n",
       "    <tr>\n",
       "      <th>skullw</th>\n",
       "      <td>-0.125065</td>\n",
       "      <td>-0.083548</td>\n",
       "      <td>0.285107</td>\n",
       "      <td>0.710827</td>\n",
       "      <td>1.000000</td>\n",
       "      <td>0.526413</td>\n",
       "      <td>0.255921</td>\n",
       "      <td>0.275059</td>\n",
       "      <td>-0.000537</td>\n",
       "      <td>0.321991</td>\n",
       "      <td>0.629737</td>\n",
       "      <td>0.451838</td>\n",
       "    </tr>\n",
       "    <tr>\n",
       "      <th>totlngth</th>\n",
       "      <td>-0.334329</td>\n",
       "      <td>-0.260843</td>\n",
       "      <td>0.260280</td>\n",
       "      <td>0.691094</td>\n",
       "      <td>0.526413</td>\n",
       "      <td>1.000000</td>\n",
       "      <td>0.565646</td>\n",
       "      <td>0.444832</td>\n",
       "      <td>0.154484</td>\n",
       "      <td>0.247786</td>\n",
       "      <td>0.577890</td>\n",
       "      <td>0.519465</td>\n",
       "    </tr>\n",
       "    <tr>\n",
       "      <th>taill</th>\n",
       "      <td>0.315351</td>\n",
       "      <td>0.380444</td>\n",
       "      <td>0.118241</td>\n",
       "      <td>0.287429</td>\n",
       "      <td>0.255921</td>\n",
       "      <td>0.565646</td>\n",
       "      <td>1.000000</td>\n",
       "      <td>-0.126277</td>\n",
       "      <td>-0.385136</td>\n",
       "      <td>0.198134</td>\n",
       "      <td>0.174997</td>\n",
       "      <td>0.294493</td>\n",
       "    </tr>\n",
       "    <tr>\n",
       "      <th>footlgth</th>\n",
       "      <td>-0.782368</td>\n",
       "      <td>-0.783009</td>\n",
       "      <td>0.126190</td>\n",
       "      <td>0.391605</td>\n",
       "      <td>0.275059</td>\n",
       "      <td>0.444832</td>\n",
       "      <td>-0.126277</td>\n",
       "      <td>1.000000</td>\n",
       "      <td>0.783050</td>\n",
       "      <td>0.005213</td>\n",
       "      <td>0.450590</td>\n",
       "      <td>0.302584</td>\n",
       "    </tr>\n",
       "    <tr>\n",
       "      <th>earconch</th>\n",
       "      <td>-0.773727</td>\n",
       "      <td>-0.790716</td>\n",
       "      <td>0.053405</td>\n",
       "      <td>0.121463</td>\n",
       "      <td>-0.000537</td>\n",
       "      <td>0.154484</td>\n",
       "      <td>-0.385136</td>\n",
       "      <td>0.783050</td>\n",
       "      <td>1.000000</td>\n",
       "      <td>-0.165092</td>\n",
       "      <td>0.199230</td>\n",
       "      <td>0.066527</td>\n",
       "    </tr>\n",
       "    <tr>\n",
       "      <th>eye</th>\n",
       "      <td>-0.084078</td>\n",
       "      <td>-0.036987</td>\n",
       "      <td>0.235553</td>\n",
       "      <td>0.347175</td>\n",
       "      <td>0.321991</td>\n",
       "      <td>0.247786</td>\n",
       "      <td>0.198134</td>\n",
       "      <td>0.005213</td>\n",
       "      <td>-0.165092</td>\n",
       "      <td>1.000000</td>\n",
       "      <td>0.149338</td>\n",
       "      <td>0.235716</td>\n",
       "    </tr>\n",
       "    <tr>\n",
       "      <th>chest</th>\n",
       "      <td>-0.402303</td>\n",
       "      <td>-0.345494</td>\n",
       "      <td>0.334209</td>\n",
       "      <td>0.631498</td>\n",
       "      <td>0.629737</td>\n",
       "      <td>0.577890</td>\n",
       "      <td>0.174997</td>\n",
       "      <td>0.450590</td>\n",
       "      <td>0.199230</td>\n",
       "      <td>0.149338</td>\n",
       "      <td>1.000000</td>\n",
       "      <td>0.606170</td>\n",
       "    </tr>\n",
       "    <tr>\n",
       "      <th>belly</th>\n",
       "      <td>-0.211671</td>\n",
       "      <td>-0.175266</td>\n",
       "      <td>0.354298</td>\n",
       "      <td>0.562663</td>\n",
       "      <td>0.451838</td>\n",
       "      <td>0.519465</td>\n",
       "      <td>0.294493</td>\n",
       "      <td>0.302584</td>\n",
       "      <td>0.066527</td>\n",
       "      <td>0.235716</td>\n",
       "      <td>0.606170</td>\n",
       "      <td>1.000000</td>\n",
       "    </tr>\n",
       "  </tbody>\n",
       "</table>\n",
       "</div>"
      ],
      "text/plain": [
       "              case      site       age   hdlngth    skullw  totlngth  \\\n",
       "case      1.000000  0.970353 -0.194525 -0.209177 -0.125065 -0.334329   \n",
       "site      0.970353  1.000000 -0.131423 -0.163646 -0.083548 -0.260843   \n",
       "age      -0.194525 -0.131423  1.000000  0.319022  0.285107  0.260280   \n",
       "hdlngth  -0.209177 -0.163646  0.319022  1.000000  0.710827  0.691094   \n",
       "skullw   -0.125065 -0.083548  0.285107  0.710827  1.000000  0.526413   \n",
       "totlngth -0.334329 -0.260843  0.260280  0.691094  0.526413  1.000000   \n",
       "taill     0.315351  0.380444  0.118241  0.287429  0.255921  0.565646   \n",
       "footlgth -0.782368 -0.783009  0.126190  0.391605  0.275059  0.444832   \n",
       "earconch -0.773727 -0.790716  0.053405  0.121463 -0.000537  0.154484   \n",
       "eye      -0.084078 -0.036987  0.235553  0.347175  0.321991  0.247786   \n",
       "chest    -0.402303 -0.345494  0.334209  0.631498  0.629737  0.577890   \n",
       "belly    -0.211671 -0.175266  0.354298  0.562663  0.451838  0.519465   \n",
       "\n",
       "             taill  footlgth  earconch       eye     chest     belly  \n",
       "case      0.315351 -0.782368 -0.773727 -0.084078 -0.402303 -0.211671  \n",
       "site      0.380444 -0.783009 -0.790716 -0.036987 -0.345494 -0.175266  \n",
       "age       0.118241  0.126190  0.053405  0.235553  0.334209  0.354298  \n",
       "hdlngth   0.287429  0.391605  0.121463  0.347175  0.631498  0.562663  \n",
       "skullw    0.255921  0.275059 -0.000537  0.321991  0.629737  0.451838  \n",
       "totlngth  0.565646  0.444832  0.154484  0.247786  0.577890  0.519465  \n",
       "taill     1.000000 -0.126277 -0.385136  0.198134  0.174997  0.294493  \n",
       "footlgth -0.126277  1.000000  0.783050  0.005213  0.450590  0.302584  \n",
       "earconch -0.385136  0.783050  1.000000 -0.165092  0.199230  0.066527  \n",
       "eye       0.198134  0.005213 -0.165092  1.000000  0.149338  0.235716  \n",
       "chest     0.174997  0.450590  0.199230  0.149338  1.000000  0.606170  \n",
       "belly     0.294493  0.302584  0.066527  0.235716  0.606170  1.000000  "
      ]
     },
     "execution_count": 30,
     "metadata": {},
     "output_type": "execute_result"
    }
   ],
   "source": [
    "data_out.corr()"
   ]
  },
  {
   "cell_type": "code",
   "execution_count": 34,
   "id": "6ae5d4a3",
   "metadata": {},
   "outputs": [
    {
     "data": {
      "image/png": "[encoded data removed]",
      "text/plain": [
       "<Figure size 720x720 with 2 Axes>"
      ]
     },
     "metadata": {
      "needs_background": "light"
     },
     "output_type": "display_data"
    }
   ],
   "source": [
    "plt.figure(figsize = (10,10))\n",
    "sns.heatmap(data_out.corr(), annot = True, vmin = -1, vmax = 1)\n",
    "plt.title(\"Correlation coefficient values\");"
   ]
  }
 ],
 "metadata": {
  "kernelspec": {
   "display_name": "Python 3",
   "language": "python",
   "name": "python3"
  },
  "language_info": {
   "codemirror_mode": {
    "name": "ipython",
    "version": 3
   },
   "file_extension": ".py",
   "mimetype": "text/x-python",
   "name": "python",
   "nbconvert_exporter": "python",
   "pygments_lexer": "ipython3",
   "version": "3.8.8"
  }
 },
 "nbformat": 4,
 "nbformat_minor": 5
}
